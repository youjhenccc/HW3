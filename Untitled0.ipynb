{
  "nbformat": 4,
  "nbformat_minor": 0,
  "metadata": {
    "colab": {
      "provenance": []
    },
    "kernelspec": {
      "name": "python3",
      "display_name": "Python 3"
    },
    "language_info": {
      "name": "python"
    }
  },
  "cells": [
    {
      "cell_type": "code",
      "execution_count": 1,
      "metadata": {
        "colab": {
          "base_uri": "https://localhost:8080/"
        },
        "id": "q_gurzdp5hVj",
        "outputId": "a22ed0f0-5c01-473b-a2fd-800abb91310d"
      },
      "outputs": [
        {
          "output_type": "stream",
          "name": "stdout",
          "text": [
            "['陳佑禎', 'B1205050']\n",
            "<class 'str'> <class 'str'>\n"
          ]
        }
      ],
      "source": [
        "name = '陳佑禎'\n",
        "id = 'B1205050'\n",
        "me = [name,id]\n",
        "print(me)\n",
        "print(type(name),type(id))\n"
      ]
    }
  ]
}